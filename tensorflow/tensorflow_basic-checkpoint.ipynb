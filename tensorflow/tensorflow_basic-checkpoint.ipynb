{
 "cells": [
  {
   "cell_type": "code",
   "execution_count": 3,
   "id": "a57d36c5-cd37-4f5d-b641-94f96b2bd9e7",
   "metadata": {},
   "outputs": [],
   "source": [
    "import tensorflow as tf\n",
    "import numpy as np\n",
    "import matplotlib.pyplot as plt\n",
    "%matplotlib inline"
   ]
  },
  {
   "cell_type": "code",
   "execution_count": 29,
   "id": "fcda68c4-2b76-460b-a3ad-381f4ec75302",
   "metadata": {},
   "outputs": [
    {
     "data": {
      "text/plain": [
       "<tf.Variable 'UnreadVariable' shape=() dtype=float32, numpy=2.0>"
      ]
     },
     "execution_count": 29,
     "metadata": {},
     "output_type": "execute_result"
    }
   ],
   "source": [
    "v1 = tf.Variable(1.0) \n",
    "p1 = tf.constant(2,dtype=tf.float32) # variable and a tensor for storing static values"
   ]
  },
  {
   "cell_type": "code",
   "execution_count": 49,
   "id": "5e09336f-790c-43cf-98a7-6423daf554b3",
   "metadata": {
    "scrolled": true
   },
   "outputs": [
    {
     "name": "stdout",
     "output_type": "stream",
     "text": [
      "2.8823038e+17\n"
     ]
    }
   ],
   "source": [
    "# a session to start the operation in tensorflow\n",
    "for _ in range(1):\n",
    "    result = v1.assign(v1+p1)\n",
    "    print(result.numpy())"
   ]
  }
 ],
 "metadata": {
  "kernelspec": {
   "display_name": "Python 3 (ipykernel)",
   "language": "python",
   "name": "python3"
  },
  "language_info": {
   "codemirror_mode": {
    "name": "ipython",
    "version": 3
   },
   "file_extension": ".py",
   "mimetype": "text/x-python",
   "name": "python",
   "nbconvert_exporter": "python",
   "pygments_lexer": "ipython3",
   "version": "3.12.4"
  }
 },
 "nbformat": 4,
 "nbformat_minor": 5
}
